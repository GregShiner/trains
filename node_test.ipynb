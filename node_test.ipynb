{
 "cells": [
  {
   "cell_type": "code",
   "execution_count": 1,
   "metadata": {},
   "outputs": [],
   "source": [
    "from __future__ import annotations\n",
    "from typing import List, NamedTuple, TypedDict, Dict, TypeAlias\n",
    "\n",
    "NodeId = str\n",
    "LineId = str\n",
    "\n",
    "class Connection(NamedTuple):\n",
    "    node_id: str # node name of the connected node\n",
    "    line_id: str # line name of the connection\n",
    "    distance: float = 1 # distance between the nodes\n",
    "\n",
    "class Node:\n",
    "    node_id: str # node name\n",
    "    connections: List[Connection] # list of connections\n",
    "    def __init__(self, node_id: NodeId, connections: List[Connection] = []):\n",
    "        self.node_id = node_id\n",
    "        self.connections = connections\n",
    "    def get_nodes_on_line(self, line_id: LineId) -> List[NodeId]:\n",
    "        return [c.node_id for c in self.connections if c.line_id == line_id]\n",
    "    def get_connected_nodes(self) -> List[NodeId]:\n",
    "        return [c.node_id for c in self.connections]\n",
    "    def get_connected_lines(self) -> List[LineId]:\n",
    "        return [c.line_id for c in self.connections]\n",
    "    def route_to(self, other: Node) -> List[Connection]:\n",
    "        \"\"\"Returns a list of connections that will take you from this node to the other node\"\"\"\n",
    "        pass\n",
    "        \n",
    "\n",
    "NODE_DICT = {\n",
    "    'A': Node('A', [Connection('B', 'red'), \n",
    "                Connection('B', 'blue'),\n",
    "                Connection('C', 'green'),\n",
    "                Connection('D', 'red'),\n",
    "                Connection('E', 'green'),\n",
    "                Connection('F', 'blue'),]),\n",
    "    'B': Node('B', [Connection('A', 'red'),\n",
    "                Connection('A', 'blue'),\n",
    "                Connection('C', 'green'),]),\n",
    "    'C': Node('C', [Connection('A', 'green'),\n",
    "                Connection('B', 'green'),]),\n",
    "    'D': Node('D', [Connection('A', 'red'),]),\n",
    "    'E': Node('E', [Connection('A', 'green'),]),\n",
    "    'F': Node('F', [Connection('A', 'blue'),]),\n",
    "}\n",
    "\n",
    "LINE_DICT = {\n",
    "    'red': ['D', 'A', 'B',],\n",
    "    'blue': ['F', 'A', 'B'],\n",
    "    'green': ['E', 'A', 'C', 'B'],\n",
    "}\n",
    "\n",
    "def get_node(node_name: str) -> Node:\n",
    "    return NODE_DICT[node_name]"
   ]
  },
  {
   "cell_type": "code",
   "execution_count": null,
   "metadata": {},
   "outputs": [],
   "source": []
  }
 ],
 "metadata": {
  "kernelspec": {
   "display_name": "Python 3.11.5 64-bit",
   "language": "python",
   "name": "python3"
  },
  "language_info": {
   "codemirror_mode": {
    "name": "ipython",
    "version": 3
   },
   "file_extension": ".py",
   "mimetype": "text/x-python",
   "name": "python",
   "nbconvert_exporter": "python",
   "pygments_lexer": "ipython3",
   "version": "3.11.5"
  },
  "orig_nbformat": 4,
  "vscode": {
   "interpreter": {
    "hash": "e7370f93d1d0cde622a1f8e1c04877d8463912d04d973331ad4851f04de6915a"
   }
  }
 },
 "nbformat": 4,
 "nbformat_minor": 2
}
